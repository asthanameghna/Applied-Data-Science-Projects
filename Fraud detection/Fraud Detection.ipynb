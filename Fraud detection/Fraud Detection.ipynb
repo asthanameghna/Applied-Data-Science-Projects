{
 "cells": [
  {
   "cell_type": "markdown",
   "metadata": {},
   "source": [
    "# Fraud Detection\n",
    "\n",
    "This project deals with the detection of fradulent transcations from a bank account. It has been achieved by training Isolation Forest and Local Outlier Factor models. We have printed out 10 fradulent cases identified by each of the model as result."
   ]
  },
  {
   "cell_type": "markdown",
   "metadata": {},
   "source": [
    "#### Importing Dataset"
   ]
  },
  {
   "cell_type": "code",
   "execution_count": 1,
   "metadata": {},
   "outputs": [
    {
     "data": {
      "text/html": [
       "<div>\n",
       "<style scoped>\n",
       "    .dataframe tbody tr th:only-of-type {\n",
       "        vertical-align: middle;\n",
       "    }\n",
       "\n",
       "    .dataframe tbody tr th {\n",
       "        vertical-align: top;\n",
       "    }\n",
       "\n",
       "    .dataframe thead th {\n",
       "        text-align: right;\n",
       "    }\n",
       "</style>\n",
       "<table border=\"1\" class=\"dataframe\">\n",
       "  <thead>\n",
       "    <tr style=\"text-align: right;\">\n",
       "      <th></th>\n",
       "      <th>Transaction ID</th>\n",
       "      <th>Client ID</th>\n",
       "      <th>Transaction value</th>\n",
       "      <th>Merchant ID</th>\n",
       "      <th>Date Counter</th>\n",
       "      <th>Time</th>\n",
       "      <th>Fraud Detection Flag</th>\n",
       "    </tr>\n",
       "  </thead>\n",
       "  <tbody>\n",
       "    <tr>\n",
       "      <th>0</th>\n",
       "      <td>1</td>\n",
       "      <td>340</td>\n",
       "      <td>29756</td>\n",
       "      <td>2023</td>\n",
       "      <td>0</td>\n",
       "      <td>22</td>\n",
       "      <td>0</td>\n",
       "    </tr>\n",
       "    <tr>\n",
       "      <th>1</th>\n",
       "      <td>2</td>\n",
       "      <td>227</td>\n",
       "      <td>3318</td>\n",
       "      <td>84</td>\n",
       "      <td>0</td>\n",
       "      <td>66</td>\n",
       "      <td>0</td>\n",
       "    </tr>\n",
       "    <tr>\n",
       "      <th>2</th>\n",
       "      <td>3</td>\n",
       "      <td>430</td>\n",
       "      <td>12191</td>\n",
       "      <td>814</td>\n",
       "      <td>0</td>\n",
       "      <td>128</td>\n",
       "      <td>0</td>\n",
       "    </tr>\n",
       "    <tr>\n",
       "      <th>3</th>\n",
       "      <td>4</td>\n",
       "      <td>142</td>\n",
       "      <td>2884</td>\n",
       "      <td>510</td>\n",
       "      <td>0</td>\n",
       "      <td>197</td>\n",
       "      <td>0</td>\n",
       "    </tr>\n",
       "    <tr>\n",
       "      <th>4</th>\n",
       "      <td>5</td>\n",
       "      <td>452</td>\n",
       "      <td>34639</td>\n",
       "      <td>1993</td>\n",
       "      <td>0</td>\n",
       "      <td>242</td>\n",
       "      <td>0</td>\n",
       "    </tr>\n",
       "  </tbody>\n",
       "</table>\n",
       "</div>"
      ],
      "text/plain": [
       "   Transaction ID  Client ID  Transaction value  Merchant ID  Date Counter  \\\n",
       "0               1        340              29756         2023             0   \n",
       "1               2        227               3318           84             0   \n",
       "2               3        430              12191          814             0   \n",
       "3               4        142               2884          510             0   \n",
       "4               5        452              34639         1993             0   \n",
       "\n",
       "   Time  Fraud Detection Flag  \n",
       "0    22                     0  \n",
       "1    66                     0  \n",
       "2   128                     0  \n",
       "3   197                     0  \n",
       "4   242                     0  "
      ]
     },
     "execution_count": 1,
     "metadata": {},
     "output_type": "execute_result"
    }
   ],
   "source": [
    "import numpy as np\n",
    "import pandas as pd\n",
    "import matplotlib.pyplot as plt\n",
    "import seaborn as sns\n",
    "\n",
    "transactionsdf = pd.read_csv('lab4train.csv',  sep=',', names=['Transaction ID', 'Client ID', 'Transaction value', 'Merchant ID', 'Date Counter', 'Time', 'Fraud Detection Flag'])\n",
    "transactionsdf.head()"
   ]
  },
  {
   "cell_type": "code",
   "execution_count": 2,
   "metadata": {},
   "outputs": [
    {
     "data": {
      "text/html": [
       "<div>\n",
       "<style scoped>\n",
       "    .dataframe tbody tr th:only-of-type {\n",
       "        vertical-align: middle;\n",
       "    }\n",
       "\n",
       "    .dataframe tbody tr th {\n",
       "        vertical-align: top;\n",
       "    }\n",
       "\n",
       "    .dataframe thead th {\n",
       "        text-align: right;\n",
       "    }\n",
       "</style>\n",
       "<table border=\"1\" class=\"dataframe\">\n",
       "  <thead>\n",
       "    <tr style=\"text-align: right;\">\n",
       "      <th></th>\n",
       "      <th>Transaction ID</th>\n",
       "      <th>Client ID</th>\n",
       "      <th>Transaction value</th>\n",
       "      <th>Merchant ID</th>\n",
       "      <th>Date Counter</th>\n",
       "      <th>Time</th>\n",
       "      <th>Fraud Detection Flag</th>\n",
       "    </tr>\n",
       "  </thead>\n",
       "  <tbody>\n",
       "    <tr>\n",
       "      <th>0</th>\n",
       "      <td>1</td>\n",
       "      <td>108</td>\n",
       "      <td>3130</td>\n",
       "      <td>3276</td>\n",
       "      <td>0</td>\n",
       "      <td>9</td>\n",
       "      <td>0</td>\n",
       "    </tr>\n",
       "    <tr>\n",
       "      <th>1</th>\n",
       "      <td>2</td>\n",
       "      <td>217</td>\n",
       "      <td>12716</td>\n",
       "      <td>1614</td>\n",
       "      <td>0</td>\n",
       "      <td>51</td>\n",
       "      <td>0</td>\n",
       "    </tr>\n",
       "    <tr>\n",
       "      <th>2</th>\n",
       "      <td>3</td>\n",
       "      <td>354</td>\n",
       "      <td>2655</td>\n",
       "      <td>3994</td>\n",
       "      <td>0</td>\n",
       "      <td>104</td>\n",
       "      <td>0</td>\n",
       "    </tr>\n",
       "    <tr>\n",
       "      <th>3</th>\n",
       "      <td>4</td>\n",
       "      <td>285</td>\n",
       "      <td>9286</td>\n",
       "      <td>1827</td>\n",
       "      <td>0</td>\n",
       "      <td>150</td>\n",
       "      <td>0</td>\n",
       "    </tr>\n",
       "    <tr>\n",
       "      <th>4</th>\n",
       "      <td>5</td>\n",
       "      <td>24</td>\n",
       "      <td>11334</td>\n",
       "      <td>3878</td>\n",
       "      <td>0</td>\n",
       "      <td>196</td>\n",
       "      <td>0</td>\n",
       "    </tr>\n",
       "  </tbody>\n",
       "</table>\n",
       "</div>"
      ],
      "text/plain": [
       "   Transaction ID  Client ID  Transaction value  Merchant ID  Date Counter  \\\n",
       "0               1        108               3130         3276             0   \n",
       "1               2        217              12716         1614             0   \n",
       "2               3        354               2655         3994             0   \n",
       "3               4        285               9286         1827             0   \n",
       "4               5         24              11334         3878             0   \n",
       "\n",
       "   Time  Fraud Detection Flag  \n",
       "0     9                     0  \n",
       "1    51                     0  \n",
       "2   104                     0  \n",
       "3   150                     0  \n",
       "4   196                     0  "
      ]
     },
     "execution_count": 2,
     "metadata": {},
     "output_type": "execute_result"
    }
   ],
   "source": [
    "test_transactionsdf = pd.read_csv('lab4test.csv',  sep=',', names=['Transaction ID', 'Client ID', 'Transaction value', 'Merchant ID', 'Date Counter', 'Time', 'Fraud Detection Flag'])\n",
    "test_transactionsdf.head()"
   ]
  },
  {
   "cell_type": "markdown",
   "metadata": {},
   "source": [
    "#### Data Exploration"
   ]
  },
  {
   "cell_type": "code",
   "execution_count": 3,
   "metadata": {},
   "outputs": [
    {
     "name": "stdout",
     "output_type": "stream",
     "text": [
      "['Transaction ID', 'Client ID', 'Transaction value', 'Merchant ID', 'Date Counter', 'Time', 'Fraud Detection Flag']\n"
     ]
    }
   ],
   "source": [
    "# Start exploring the dataset\n",
    "print(transactionsdf.columns.tolist())"
   ]
  },
  {
   "cell_type": "code",
   "execution_count": 4,
   "metadata": {},
   "outputs": [
    {
     "name": "stdout",
     "output_type": "stream",
     "text": [
      "(100000, 4)\n",
      "          Client ID  Transaction value          Time  Fraud Detection Flag\n",
      "count  1.000000e+05       1.000000e+05  1.000000e+05           100000.0000\n",
      "mean  -1.304443e-17      -4.636735e-17  6.849854e-17                0.0001\n",
      "std    2.052305e-01       2.883872e-01  2.873679e-01                0.0100\n",
      "min   -5.016610e-01      -3.445297e-01 -5.007030e-01                0.0000\n",
      "25%   -1.475362e-01      -2.824408e-01 -2.508464e-01                0.0000\n",
      "50%   -6.549296e-04      -1.096458e-01 -5.826173e-04                0.0000\n",
      "75%    1.462264e-01       3.257578e-01  2.492874e-01                0.0000\n",
      "max    4.983390e-01       6.554703e-01  4.992970e-01                1.0000\n"
     ]
    }
   ],
   "source": [
    "# Print the shape of the data\n",
    "\n",
    "columns = ['Client ID','Transaction value']\n",
    "datadf = pd.DataFrame(transactionsdf[columns])\n",
    "datadf[\"Time\"] = transactionsdf['Date Counter']*24*60*60 + transactionsdf['Time']\n",
    "\n",
    "data =  (datadf - datadf.mean()) / (datadf.max() - datadf.min())\n",
    "data[\"Fraud Detection Flag\"] = transactionsdf[\"Fraud Detection Flag\"]\n",
    "\n",
    "print(data.shape)\n",
    "print(data.describe())\n"
   ]
  },
  {
   "cell_type": "code",
   "execution_count": 5,
   "metadata": {},
   "outputs": [
    {
     "name": "stdout",
     "output_type": "stream",
     "text": [
      "(100000, 4)\n",
      "          Client ID  Transaction value          Time  Fraud Detection Flag\n",
      "count  1.000000e+05       1.000000e+05  1.000000e+05              100000.0\n",
      "mean  -2.129796e-17      -3.168410e-17 -3.209266e-17                   0.0\n",
      "std    2.047157e-01       2.892994e-01  2.873993e-01                   0.0\n",
      "min   -4.988134e-01      -3.408575e-01 -5.012356e-01                   0.0\n",
      "25%   -1.474078e-01      -2.784034e-01 -2.508207e-01                   0.0\n",
      "50%   -8.214056e-04      -1.058791e-01 -1.060611e-03                   0.0\n",
      "75%    1.457649e-01       3.295084e-01  2.489320e-01                   0.0\n",
      "max    5.011866e-01       6.591425e-01  4.987644e-01                   0.0\n"
     ]
    }
   ],
   "source": [
    "# Prepare test data in the same way\n",
    "\n",
    "columns = ['Client ID','Transaction value']\n",
    "test_datadf = pd.DataFrame(test_transactionsdf[columns])\n",
    "test_datadf[\"Time\"] = test_transactionsdf['Date Counter']*24*60*60 + test_transactionsdf['Time']\n",
    "\n",
    "test_data =  (test_datadf - test_datadf.mean()) / (test_datadf.max() - test_datadf.min())\n",
    "test_data[\"Fraud Detection Flag\"] = test_transactionsdf[\"Fraud Detection Flag\"]\n",
    "\n",
    "print(test_data.shape)\n",
    "print(test_data.describe())\n",
    "\n",
    "# Store the variable we'll be predicting on\n",
    "target = \"Fraud Detection Flag\"\n",
    "\n",
    "X_test = test_data[columns]\n",
    "Y_test = test_data[target]"
   ]
  },
  {
   "cell_type": "markdown",
   "metadata": {},
   "source": [
    "#### 1. Histograms"
   ]
  },
  {
   "cell_type": "code",
   "execution_count": 6,
   "metadata": {},
   "outputs": [
    {
     "data": {
      "image/png": "[encoded data removed]",
      "text/plain": [
       "<Figure size 1440x1440 with 4 Axes>"
      ]
     },
     "metadata": {},
     "output_type": "display_data"
    }
   ],
   "source": [
    "# Plot histograms of each parameter \n",
    "data.hist(figsize = (20, 20))\n",
    "plt.show()"
   ]
  },
  {
   "cell_type": "code",
   "execution_count": 7,
   "metadata": {},
   "outputs": [
    {
     "name": "stdout",
     "output_type": "stream",
     "text": [
      "0.00010001000100010001\n",
      "Fraud Cases: 10\n",
      "Valid Transactions: 99990\n"
     ]
    }
   ],
   "source": [
    "# Determine number of fraud cases in dataset\n",
    "\n",
    "Fraud = data[data['Fraud Detection Flag'] == 1]\n",
    "Valid = data[data['Fraud Detection Flag'] == 0]\n",
    "\n",
    "outlier_fraction = len(Fraud)/float(len(Valid))\n",
    "print(outlier_fraction)\n",
    "\n",
    "print('Fraud Cases: {}'.format(len(data[data['Fraud Detection Flag'] == 1])))\n",
    "print('Valid Transactions: {}'.format(len(data[data['Fraud Detection Flag'] == 0])))\n",
    "\n"
   ]
  },
  {
   "cell_type": "markdown",
   "metadata": {},
   "source": [
    "#### 2. Correlation Matrix"
   ]
  },
  {
   "cell_type": "code",
   "execution_count": 8,
   "metadata": {},
   "outputs": [
    {
     "data": {
      "image/png": "[encoded data removed]",
      "text/plain": [
       "<Figure size 864x648 with 2 Axes>"
      ]
     },
     "metadata": {},
     "output_type": "display_data"
    }
   ],
   "source": [
    "# Correlation matrix\n",
    "corrmat = data.corr()\n",
    "fig = plt.figure(figsize = (12, 9))\n",
    "\n",
    "sns.heatmap(corrmat, vmax = .8, square = True)\n",
    "plt.show()"
   ]
  },
  {
   "cell_type": "markdown",
   "metadata": {},
   "source": [
    "#### Data Preparation"
   ]
  },
  {
   "cell_type": "code",
   "execution_count": 9,
   "metadata": {},
   "outputs": [
    {
     "name": "stdout",
     "output_type": "stream",
     "text": [
      "(100000, 3)\n",
      "(100000,)\n"
     ]
    }
   ],
   "source": [
    "# Get all the columns from the dataFrame\n",
    "columns = data.columns.tolist()\n",
    "\n",
    "# Filter the columns to remove data we do not want\n",
    "columns = [c for c in columns if c not in [\"Fraud Detection Flag\"]]\n",
    "\n",
    "# Store the variable we'll be predicting on\n",
    "target = \"Fraud Detection Flag\"\n",
    "\n",
    "X = data[columns]\n",
    "Y = data[target]\n",
    "\n",
    "# Print shapes\n",
    "print(X.shape)\n",
    "print(Y.shape)"
   ]
  },
  {
   "cell_type": "markdown",
   "metadata": {},
   "source": [
    "#### Training Models"
   ]
  },
  {
   "cell_type": "code",
   "execution_count": 10,
   "metadata": {},
   "outputs": [],
   "source": [
    "from sklearn.metrics import confusion_matrix, classification_report, accuracy_score, roc_curve, auc, precision_recall_curve\n",
    "from sklearn.ensemble import IsolationForest\n",
    "from sklearn.neighbors import LocalOutlierFactor\n",
    "\n",
    "\n",
    "# define random states\n",
    "state = 1\n",
    "\n",
    "# define outlier detection tools to be compared\n",
    "classifiers = {\n",
    "    \"Isolation Forest\": IsolationForest(max_samples=len(X),\n",
    "                                        contamination=outlier_fraction,\n",
    "                                        random_state=state),\n",
    "    \"Local Outlier Factor\": LocalOutlierFactor(\n",
    "        n_neighbors=20,\n",
    "        contamination=outlier_fraction),\n",
    "    }"
   ]
  },
  {
   "cell_type": "code",
   "execution_count": 11,
   "metadata": {},
   "outputs": [],
   "source": [
    "\n",
    "def plot_confusion_matrix(y_test, pred):\n",
    "    \n",
    "    y_test_legit = y_test.value_counts()[0]\n",
    "    y_test_fraud = y_test.value_counts()[1]\n",
    "    \n",
    "    cfn_matrix = confusion_matrix(y_test, pred)\n",
    "    cfn_norm_matrix = np.array([[1.0 / y_test_legit,1.0/y_test_legit],[1.0/y_test_fraud,1.0/y_test_fraud]])\n",
    "    norm_cfn_matrix = cfn_matrix * cfn_norm_matrix\n",
    "\n",
    "    fig = plt.figure(figsize=(12,5))\n",
    "    ax = fig.add_subplot(1,2,1)\n",
    "    sns.heatmap(cfn_matrix,cmap='coolwarm_r',linewidths=0.5,annot=True,ax=ax)\n",
    "    plt.title('Confusion Matrix')\n",
    "    plt.ylabel('Real Classes')\n",
    "    plt.xlabel('Predicted Classes')\n",
    "\n",
    "    ax = fig.add_subplot(1,2,2)\n",
    "    sns.heatmap(norm_cfn_matrix,cmap='coolwarm_r',linewidths=0.5,annot=True,ax=ax)\n",
    "\n",
    "    plt.title('Normalized Confusion Matrix')\n",
    "    plt.ylabel('Real Classes')\n",
    "    plt.xlabel('Predicted Classes')\n",
    "    plt.show()\n",
    "    pass\n"
   ]
  },
  {
   "cell_type": "markdown",
   "metadata": {},
   "source": [
    "#### Results: Identified Fraudulent Cases"
   ]
  },
  {
   "cell_type": "code",
   "execution_count": 12,
   "metadata": {
    "scrolled": false
   },
   "outputs": [
    {
     "name": "stdout",
     "output_type": "stream",
     "text": [
      "Isolation Forest: 19\n",
      "0.99981\n",
      "             precision    recall  f1-score   support\n",
      "\n",
      "          0       1.00      1.00      1.00     99990\n",
      "          1       0.09      0.10      0.10        10\n",
      "\n",
      "avg / total       1.00      1.00      1.00    100000\n",
      "\n"
     ]
    },
    {
     "data": {
      "text/plain": [
       "<Figure size 648x504 with 0 Axes>"
      ]
     },
     "metadata": {},
     "output_type": "display_data"
    },
    {
     "data": {
      "image/png": "[encoded data removed]",
      "text/plain": [
       "<Figure size 432x288 with 1 Axes>"
      ]
     },
     "metadata": {},
     "output_type": "display_data"
    },
    {
     "data": {
      "image/png": "[encoded data removed]",
      "text/plain": [
       "<Figure size 432x288 with 1 Axes>"
      ]
     },
     "metadata": {},
     "output_type": "display_data"
    },
    {
     "data": {
      "text/plain": [
       "<Figure size 432x288 with 0 Axes>"
      ]
     },
     "metadata": {},
     "output_type": "display_data"
    },
    {
     "data": {
      "image/png": "[encoded data removed]",
      "text/plain": [
       "<Figure size 864x360 with 4 Axes>"
      ]
     },
     "metadata": {},
     "output_type": "display_data"
    },
    {
     "name": "stdout",
     "output_type": "stream",
     "text": [
      "Local Outlier Factor: 17\n",
      "0.99983\n",
      "             precision    recall  f1-score   support\n",
      "\n",
      "          0       1.00      1.00      1.00     99990\n",
      "          1       0.18      0.20      0.19        10\n",
      "\n",
      "avg / total       1.00      1.00      1.00    100000\n",
      "\n"
     ]
    },
    {
     "data": {
      "image/png": "[encoded data removed]",
      "text/plain": [
       "<Figure size 432x288 with 1 Axes>"
      ]
     },
     "metadata": {},
     "output_type": "display_data"
    },
    {
     "data": {
      "image/png": "[encoded data removed]",
      "text/plain": [
       "<Figure size 432x288 with 1 Axes>"
      ]
     },
     "metadata": {},
     "output_type": "display_data"
    },
    {
     "data": {
      "text/plain": [
       "<Figure size 432x288 with 0 Axes>"
      ]
     },
     "metadata": {},
     "output_type": "display_data"
    },
    {
     "data": {
      "image/png": "[encoded data removed]",
      "text/plain": [
       "<Figure size 864x360 with 4 Axes>"
      ]
     },
     "metadata": {},
     "output_type": "display_data"
    }
   ],
   "source": [
    "# Fit the model\n",
    "plt.figure(figsize=(9, 7))\n",
    "n_outliers = len(Fraud)\n",
    "\n",
    "\n",
    "for i, (clf_name, clf) in enumerate(classifiers.items()):\n",
    "    \n",
    "    # fit the data and tag outliers\n",
    "    if clf_name == \"Local Outlier Factor\":\n",
    "        y_pred = clf.fit_predict(X)\n",
    "        scores_pred = clf.negative_outlier_factor_\n",
    "    elif clf_name == \"Isolation Forest\":\n",
    "        clf.fit(X)\n",
    "        scores_pred = clf.decision_function(X)\n",
    "        y_pred = clf.predict(X)\n",
    "\n",
    "\n",
    "    \n",
    "    # Reshape the prediction values to 0 for valid, 1 for fraud. \n",
    "    y_pred[y_pred == 1] = 0\n",
    "    y_pred[y_pred == -1] = 1\n",
    "    \n",
    "    n_errors = (y_pred != Y).sum()\n",
    "    \n",
    "    # Run classification metrics\n",
    "    print('{}: {}'.format(clf_name, n_errors))\n",
    "    print(accuracy_score(Y, y_pred))\n",
    "    print(classification_report(Y, y_pred))\n",
    "\n",
    "    fpr, tpr, thresholds = roc_curve(Y, y_pred)\n",
    "\n",
    "    precision, recall, thresholds = precision_recall_curve(Y, y_pred)\n",
    "\n",
    "    roc_auc = auc(fpr, tpr)\n",
    "\n",
    "    plt.figure()\n",
    "    plt.title('{}: Receiver Operating Characteristic'.format(clf_name))\n",
    "    plt.plot(fpr, tpr, 'b', label='AUC = %0.2f'% roc_auc)\n",
    "    plt.legend(loc='lower right')\n",
    "    plt.plot([0,1],[0,1],'r--')\n",
    "    plt.xlim([0.,1.])\n",
    "    plt.ylim([0.,1.])\n",
    "    plt.ylabel('True Positive Rate')\n",
    "    plt.xlabel('False Positive Rate')\n",
    "\n",
    "\n",
    "    plt.figure()\n",
    "    plt.title('{}: Precision Recall Curve'.format(clf_name))\n",
    "    plt.plot(recall, precision, 'b')\n",
    "    plt.xlim([0.,1.])\n",
    "    plt.ylim([0.,1.])\n",
    "    plt.ylabel('Precision')\n",
    "    plt.xlabel('Recall')\n",
    "    \n",
    "    plt.figure()\n",
    "    plot_confusion_matrix(Y, y_pred)"
   ]
  },
  {
   "cell_type": "code",
   "execution_count": 13,
   "metadata": {},
   "outputs": [],
   "source": [
    "# For test dataset\n",
    "\n",
    "predictions = []\n",
    "\n",
    "for i, (clf_name, clf) in enumerate(classifiers.items()):\n",
    "    \n",
    "    # fit the data and tag outliers\n",
    "    if clf_name == \"Local Outlier Factor\":\n",
    "        y_test_pred = clf.fit_predict(X_test)\n",
    "        scores_pred = clf.negative_outlier_factor_\n",
    "    elif clf_name == \"Isolation Forest\":\n",
    "        clf.fit(X_test)\n",
    "        scores_pred = clf.decision_function(X_test)\n",
    "        y_test_pred = clf.predict(X_test)\n",
    "\n",
    "\n",
    "    \n",
    "    # Reshape the prediction values to 0 for valid, 1 for fraud. \n",
    "    y_test_pred[y_test_pred == 1] = 0\n",
    "    y_test_pred[y_test_pred == -1] = 1\n",
    "    predictions.append(y_test_pred.nonzero())\n",
    "    \n",
    "    "
   ]
  },
  {
   "cell_type": "code",
   "execution_count": 14,
   "metadata": {},
   "outputs": [
    {
     "name": "stdout",
     "output_type": "stream",
     "text": [
      "For Local Outlier Factor, fraudulant transactions are at indices:\n",
      "[10215 11880 19413 46683 52774 65886 72915 75008 85066 89132 97061] \n",
      "\n",
      "For Isolation Forest, fraudulant transactions are at indices:\n",
      "[ 9515 16782 25825 27570 30791 45751 75008 75678 77150 86006 87236] \n",
      "\n"
     ]
    }
   ],
   "source": [
    "# Fraudulant data indices\n",
    "\n",
    "print('For Local Outlier Factor, fraudulant transactions are at indices:')\n",
    "print(predictions[0][0], '\\n')\n",
    "print('For Isolation Forest, fraudulant transactions are at indices:')\n",
    "print(predictions[1][0], '\\n')"
   ]
  },
  {
   "cell_type": "code",
   "execution_count": 15,
   "metadata": {},
   "outputs": [
    {
     "name": "stdout",
     "output_type": "stream",
     "text": [
      "Fradulant Transactions according to Local Outlier Factor\n"
     ]
    },
    {
     "data": {
      "text/html": [
       "<div>\n",
       "<style scoped>\n",
       "    .dataframe tbody tr th:only-of-type {\n",
       "        vertical-align: middle;\n",
       "    }\n",
       "\n",
       "    .dataframe tbody tr th {\n",
       "        vertical-align: top;\n",
       "    }\n",
       "\n",
       "    .dataframe thead th {\n",
       "        text-align: right;\n",
       "    }\n",
       "</style>\n",
       "<table border=\"1\" class=\"dataframe\">\n",
       "  <thead>\n",
       "    <tr style=\"text-align: right;\">\n",
       "      <th></th>\n",
       "      <th>Transaction ID</th>\n",
       "      <th>Client ID</th>\n",
       "      <th>Transaction value</th>\n",
       "      <th>Merchant ID</th>\n",
       "      <th>Date Counter</th>\n",
       "      <th>Time</th>\n",
       "    </tr>\n",
       "  </thead>\n",
       "  <tbody>\n",
       "    <tr>\n",
       "      <th>10215</th>\n",
       "      <td>10216</td>\n",
       "      <td>497</td>\n",
       "      <td>45410</td>\n",
       "      <td>2487</td>\n",
       "      <td>4</td>\n",
       "      <td>77486</td>\n",
       "    </tr>\n",
       "    <tr>\n",
       "      <th>11880</th>\n",
       "      <td>11881</td>\n",
       "      <td>0</td>\n",
       "      <td>33201</td>\n",
       "      <td>4930</td>\n",
       "      <td>5</td>\n",
       "      <td>65482</td>\n",
       "    </tr>\n",
       "    <tr>\n",
       "      <th>19413</th>\n",
       "      <td>19414</td>\n",
       "      <td>11</td>\n",
       "      <td>22473</td>\n",
       "      <td>2408</td>\n",
       "      <td>9</td>\n",
       "      <td>41357</td>\n",
       "    </tr>\n",
       "    <tr>\n",
       "      <th>46683</th>\n",
       "      <td>46684</td>\n",
       "      <td>35</td>\n",
       "      <td>47703</td>\n",
       "      <td>2361</td>\n",
       "      <td>22</td>\n",
       "      <td>36608</td>\n",
       "    </tr>\n",
       "    <tr>\n",
       "      <th>52774</th>\n",
       "      <td>52775</td>\n",
       "      <td>442</td>\n",
       "      <td>48769</td>\n",
       "      <td>3115</td>\n",
       "      <td>25</td>\n",
       "      <td>2815</td>\n",
       "    </tr>\n",
       "    <tr>\n",
       "      <th>65886</th>\n",
       "      <td>65887</td>\n",
       "      <td>498</td>\n",
       "      <td>1599</td>\n",
       "      <td>1789</td>\n",
       "      <td>31</td>\n",
       "      <td>41385</td>\n",
       "    </tr>\n",
       "    <tr>\n",
       "      <th>72915</th>\n",
       "      <td>72916</td>\n",
       "      <td>250</td>\n",
       "      <td>49389</td>\n",
       "      <td>831</td>\n",
       "      <td>34</td>\n",
       "      <td>60416</td>\n",
       "    </tr>\n",
       "    <tr>\n",
       "      <th>75008</th>\n",
       "      <td>75009</td>\n",
       "      <td>266</td>\n",
       "      <td>565</td>\n",
       "      <td>2299</td>\n",
       "      <td>35</td>\n",
       "      <td>60314</td>\n",
       "    </tr>\n",
       "    <tr>\n",
       "      <th>85066</th>\n",
       "      <td>85067</td>\n",
       "      <td>433</td>\n",
       "      <td>49561</td>\n",
       "      <td>3580</td>\n",
       "      <td>40</td>\n",
       "      <td>46157</td>\n",
       "    </tr>\n",
       "    <tr>\n",
       "      <th>89132</th>\n",
       "      <td>89133</td>\n",
       "      <td>475</td>\n",
       "      <td>48703</td>\n",
       "      <td>4402</td>\n",
       "      <td>42</td>\n",
       "      <td>42195</td>\n",
       "    </tr>\n",
       "    <tr>\n",
       "      <th>97061</th>\n",
       "      <td>97062</td>\n",
       "      <td>1</td>\n",
       "      <td>14309</td>\n",
       "      <td>2185</td>\n",
       "      <td>45</td>\n",
       "      <td>85908</td>\n",
       "    </tr>\n",
       "  </tbody>\n",
       "</table>\n",
       "</div>"
      ],
      "text/plain": [
       "       Transaction ID  Client ID  Transaction value  Merchant ID  \\\n",
       "10215           10216        497              45410         2487   \n",
       "11880           11881          0              33201         4930   \n",
       "19413           19414         11              22473         2408   \n",
       "46683           46684         35              47703         2361   \n",
       "52774           52775        442              48769         3115   \n",
       "65886           65887        498               1599         1789   \n",
       "72915           72916        250              49389          831   \n",
       "75008           75009        266                565         2299   \n",
       "85066           85067        433              49561         3580   \n",
       "89132           89133        475              48703         4402   \n",
       "97061           97062          1              14309         2185   \n",
       "\n",
       "       Date Counter   Time  \n",
       "10215             4  77486  \n",
       "11880             5  65482  \n",
       "19413             9  41357  \n",
       "46683            22  36608  \n",
       "52774            25   2815  \n",
       "65886            31  41385  \n",
       "72915            34  60416  \n",
       "75008            35  60314  \n",
       "85066            40  46157  \n",
       "89132            42  42195  \n",
       "97061            45  85908  "
      ]
     },
     "execution_count": 15,
     "metadata": {},
     "output_type": "execute_result"
    }
   ],
   "source": [
    "# Fraudulant Transactions: Local Outlier Factor\n",
    "\n",
    "fraud1 = pd.DataFrame(test_transactionsdf['Transaction ID'][predictions[0][0]], columns=['Transaction ID'])\n",
    "fraud1['Client ID'] = test_transactionsdf['Client ID'][predictions[0][0]]\n",
    "fraud1['Transaction value'] = test_transactionsdf['Transaction value'][predictions[0][0]]\n",
    "fraud1['Merchant ID'] = test_transactionsdf['Merchant ID'][predictions[0][0]]\n",
    "fraud1['Date Counter'] = test_transactionsdf['Date Counter'][predictions[0][0]]\n",
    "fraud1['Time'] = test_transactionsdf['Time'][predictions[0][0]]\n",
    "print('Fradulant Transactions according to Local Outlier Factor')\n",
    "fraud1\n",
    "\n"
   ]
  },
  {
   "cell_type": "code",
   "execution_count": 16,
   "metadata": {},
   "outputs": [
    {
     "name": "stdout",
     "output_type": "stream",
     "text": [
      "Fradulant Transactions according to Isolation Forest\n"
     ]
    },
    {
     "data": {
      "text/html": [
       "<div>\n",
       "<style scoped>\n",
       "    .dataframe tbody tr th:only-of-type {\n",
       "        vertical-align: middle;\n",
       "    }\n",
       "\n",
       "    .dataframe tbody tr th {\n",
       "        vertical-align: top;\n",
       "    }\n",
       "\n",
       "    .dataframe thead th {\n",
       "        text-align: right;\n",
       "    }\n",
       "</style>\n",
       "<table border=\"1\" class=\"dataframe\">\n",
       "  <thead>\n",
       "    <tr style=\"text-align: right;\">\n",
       "      <th></th>\n",
       "      <th>Transaction ID</th>\n",
       "      <th>Client ID</th>\n",
       "      <th>Transaction value</th>\n",
       "      <th>Merchant ID</th>\n",
       "      <th>Date Counter</th>\n",
       "      <th>Time</th>\n",
       "    </tr>\n",
       "  </thead>\n",
       "  <tbody>\n",
       "    <tr>\n",
       "      <th>9515</th>\n",
       "      <td>9516</td>\n",
       "      <td>183</td>\n",
       "      <td>5744</td>\n",
       "      <td>1918</td>\n",
       "      <td>4</td>\n",
       "      <td>58125</td>\n",
       "    </tr>\n",
       "    <tr>\n",
       "      <th>16782</th>\n",
       "      <td>16783</td>\n",
       "      <td>465</td>\n",
       "      <td>5686</td>\n",
       "      <td>2690</td>\n",
       "      <td>7</td>\n",
       "      <td>84701</td>\n",
       "    </tr>\n",
       "    <tr>\n",
       "      <th>25825</th>\n",
       "      <td>25826</td>\n",
       "      <td>330</td>\n",
       "      <td>6070</td>\n",
       "      <td>2148</td>\n",
       "      <td>12</td>\n",
       "      <td>43821</td>\n",
       "    </tr>\n",
       "    <tr>\n",
       "      <th>27570</th>\n",
       "      <td>27571</td>\n",
       "      <td>412</td>\n",
       "      <td>5674</td>\n",
       "      <td>4894</td>\n",
       "      <td>13</td>\n",
       "      <td>34074</td>\n",
       "    </tr>\n",
       "    <tr>\n",
       "      <th>30791</th>\n",
       "      <td>30792</td>\n",
       "      <td>444</td>\n",
       "      <td>6209</td>\n",
       "      <td>4511</td>\n",
       "      <td>14</td>\n",
       "      <td>64035</td>\n",
       "    </tr>\n",
       "    <tr>\n",
       "      <th>45751</th>\n",
       "      <td>45752</td>\n",
       "      <td>151</td>\n",
       "      <td>5852</td>\n",
       "      <td>4152</td>\n",
       "      <td>21</td>\n",
       "      <td>68561</td>\n",
       "    </tr>\n",
       "    <tr>\n",
       "      <th>75008</th>\n",
       "      <td>75009</td>\n",
       "      <td>266</td>\n",
       "      <td>565</td>\n",
       "      <td>2299</td>\n",
       "      <td>35</td>\n",
       "      <td>60314</td>\n",
       "    </tr>\n",
       "    <tr>\n",
       "      <th>75678</th>\n",
       "      <td>75679</td>\n",
       "      <td>40</td>\n",
       "      <td>6418</td>\n",
       "      <td>2642</td>\n",
       "      <td>35</td>\n",
       "      <td>78754</td>\n",
       "    </tr>\n",
       "    <tr>\n",
       "      <th>77150</th>\n",
       "      <td>77151</td>\n",
       "      <td>437</td>\n",
       "      <td>942</td>\n",
       "      <td>4577</td>\n",
       "      <td>36</td>\n",
       "      <td>61321</td>\n",
       "    </tr>\n",
       "    <tr>\n",
       "      <th>86006</th>\n",
       "      <td>86007</td>\n",
       "      <td>383</td>\n",
       "      <td>969</td>\n",
       "      <td>1078</td>\n",
       "      <td>40</td>\n",
       "      <td>72020</td>\n",
       "    </tr>\n",
       "    <tr>\n",
       "      <th>87236</th>\n",
       "      <td>87237</td>\n",
       "      <td>285</td>\n",
       "      <td>6169</td>\n",
       "      <td>1513</td>\n",
       "      <td>41</td>\n",
       "      <td>48180</td>\n",
       "    </tr>\n",
       "  </tbody>\n",
       "</table>\n",
       "</div>"
      ],
      "text/plain": [
       "       Transaction ID  Client ID  Transaction value  Merchant ID  \\\n",
       "9515             9516        183               5744         1918   \n",
       "16782           16783        465               5686         2690   \n",
       "25825           25826        330               6070         2148   \n",
       "27570           27571        412               5674         4894   \n",
       "30791           30792        444               6209         4511   \n",
       "45751           45752        151               5852         4152   \n",
       "75008           75009        266                565         2299   \n",
       "75678           75679         40               6418         2642   \n",
       "77150           77151        437                942         4577   \n",
       "86006           86007        383                969         1078   \n",
       "87236           87237        285               6169         1513   \n",
       "\n",
       "       Date Counter   Time  \n",
       "9515              4  58125  \n",
       "16782             7  84701  \n",
       "25825            12  43821  \n",
       "27570            13  34074  \n",
       "30791            14  64035  \n",
       "45751            21  68561  \n",
       "75008            35  60314  \n",
       "75678            35  78754  \n",
       "77150            36  61321  \n",
       "86006            40  72020  \n",
       "87236            41  48180  "
      ]
     },
     "execution_count": 16,
     "metadata": {},
     "output_type": "execute_result"
    }
   ],
   "source": [
    "# Fraudulant Transactions: Isolation Forest\n",
    "\n",
    "fraud2 = pd.DataFrame(test_transactionsdf['Transaction ID'][predictions[1][0]], columns=['Transaction ID'])\n",
    "fraud2['Client ID'] = test_transactionsdf['Client ID'][predictions[1][0]]\n",
    "fraud2['Transaction value'] = test_transactionsdf['Transaction value'][predictions[1][0]]\n",
    "fraud2['Merchant ID'] = test_transactionsdf['Merchant ID'][predictions[1][0]]\n",
    "fraud2['Date Counter'] = test_transactionsdf['Date Counter'][predictions[1][0]]\n",
    "fraud2['Time'] = test_transactionsdf['Time'][predictions[1][0]]\n",
    "print('Fradulant Transactions according to Isolation Forest')\n",
    "fraud2"
   ]
  },
  {
   "cell_type": "code",
   "execution_count": null,
   "metadata": {},
   "outputs": [],
   "source": []
  }
 ],
 "metadata": {
  "kernelspec": {
   "display_name": "Python 3",
   "language": "python",
   "name": "python3"
  },
  "language_info": {
   "codemirror_mode": {
    "name": "ipython",
    "version": 3
   },
   "file_extension": ".py",
   "mimetype": "text/x-python",
   "name": "python",
   "nbconvert_exporter": "python",
   "pygments_lexer": "ipython3",
   "version": "3.7.3"
  }
 },
 "nbformat": 4,
 "nbformat_minor": 2
}
